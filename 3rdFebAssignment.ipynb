{
 "cells": [
  {
   "cell_type": "markdown",
   "id": "82a74bc7-691f-4610-891f-0565ba007879",
   "metadata": {},
   "source": [
    "*Q1. Which Kewword is used to create a function? Create a function to return a list of odd numbers in the range of 1 to 25*"
   ]
  },
  {
   "cell_type": "code",
   "execution_count": 1,
   "id": "76b7da25-def3-4d6f-ac6e-5f2a73a1487c",
   "metadata": {},
   "outputs": [],
   "source": [
    "# The def keywprd is used to create a function in Pythpn .\n",
    "l = []\n",
    "\n",
    "def odd_nums():\n",
    "    for i in range(1,26):\n",
    "        if i % 2 != 0:\n",
    "             l.append(i)\n",
    "    return(l)"
   ]
  },
  {
   "cell_type": "code",
   "execution_count": 2,
   "id": "ea37a0fe-709a-49de-9ca5-3003ebf11d11",
   "metadata": {},
   "outputs": [
    {
     "data": {
      "text/plain": [
       "[1, 3, 5, 7, 9, 11, 13, 15, 17, 19, 21, 23, 25]"
      ]
     },
     "execution_count": 2,
     "metadata": {},
     "output_type": "execute_result"
    }
   ],
   "source": [
    "odd_nums()"
   ]
  },
  {
   "cell_type": "markdown",
   "id": "123ec5c5-cbb6-4263-a27d-95a790c4aad5",
   "metadata": {},
   "source": [
    "Q2. Why *args and *kwargs is used in some functions? Create a function each for args and kwargs to demonstrate tehir use"
   ]
  },
  {
   "cell_type": "code",
   "execution_count": 7,
   "id": "4f21a2af-e2c5-436f-8fb3-cbdcd00d0633",
   "metadata": {},
   "outputs": [],
   "source": [
    "#*args passes variable number of non-keyworded arguments to a function and on which operation of the tuple can be performed.\n",
    "#**kwargs passes variable number of keyword arguments dictionary to function on which operation of a dictionary can be performed.\n",
    "\n",
    "def multiplier(*vishal):\n",
    "    product = 1\n",
    "    \n",
    "    for i in vishal:\n",
    "        product = product * i\n",
    "    return product\n",
    "    "
   ]
  },
  {
   "cell_type": "code",
   "execution_count": 9,
   "id": "e892e183-f72b-4fb2-9dba-6908a059776a",
   "metadata": {},
   "outputs": [
    {
     "data": {
      "text/plain": [
       "180"
      ]
     },
     "execution_count": 9,
     "metadata": {},
     "output_type": "execute_result"
    }
   ],
   "source": [
    "multiplier(1,2,3,5,6)"
   ]
  },
  {
   "cell_type": "code",
   "execution_count": 10,
   "id": "2ab36bf1-4e5d-458c-ac8c-88ce6fc2d720",
   "metadata": {},
   "outputs": [
    {
     "name": "stdout",
     "output_type": "stream",
     "text": [
      "Name is Vishal\n",
      "Age is 20\n",
      "Phone is 8934985090440\n",
      "Email is Vishal@gmail.com\n"
     ]
    }
   ],
   "source": [
    "def person_info(**data):\n",
    "    \n",
    "    for key ,value in data.items():\n",
    "        print(\"{} is {}\".format(key, value))\n",
    "\n",
    "person_info( Name = \"Vishal\", Age = 20, Phone = 8934985090440, Email = \"Vishal@gmail.com\") \n",
    "        "
   ]
  },
  {
   "cell_type": "markdown",
   "id": "8962ac29-929c-410d-b8d0-a4899733bd9a",
   "metadata": {},
   "source": [
    "*Q3. What is an iterator in Python ? Name the method used to initialise the iterator object and the method used for iteration . Use these methods to print the first five elements of the given list [2,4,6,8,10,12,14,16,18,20]*"
   ]
  },
  {
   "cell_type": "code",
   "execution_count": 24,
   "id": "b2757a03-093b-43fa-9b23-61be81e9ca46",
   "metadata": {},
   "outputs": [
    {
     "name": "stdout",
     "output_type": "stream",
     "text": [
      "2\n",
      "4\n",
      "6\n",
      "8\n",
      "10\n"
     ]
    }
   ],
   "source": [
    "#An iterator is an object that contains a countable number of values.\n",
    "#An iterator is an object that can be iterated upon, meaning that you can traverse through all the values.\n",
    "#Technically, in Python, an iterator is an object which implements the iterator protocol, which consist of the methods __iter__() and __next__().\n",
    "\n",
    "#__iter()__ method is used to initialise the iterator object and __next()__ method is used for iteration\n",
    "\n",
    "l = [2,4,6,8,10,12,14,16,18,20]\n",
    "l1 = iter(l)\n",
    "\n",
    "for i in range(5):\n",
    "    print(next(l1))"
   ]
  },
  {
   "cell_type": "markdown",
   "id": "348744c9-56e2-4f1f-8ef5-32c15d91e47c",
   "metadata": {},
   "source": [
    "*What is a generator function in Python? Why yield keyword is used ? Give an example of generator function.*"
   ]
  },
  {
   "cell_type": "code",
   "execution_count": 5,
   "id": "0deeeaa5-e804-477d-afe0-be2986bea8ec",
   "metadata": {},
   "outputs": [
    {
     "name": "stdout",
     "output_type": "stream",
     "text": [
      "1\n",
      "2\n",
      "3\n",
      "4\n",
      "5\n",
      "6\n"
     ]
    }
   ],
   "source": [
    "#A generator is a function that returns an iterator that produces a sequence of values when iterated over.\n",
    "#Generators are useful when we want to produce a large sequence of values, but we don't want to store all of them in memory at once.\n",
    "\n",
    "#The yield statement suspends a function’s execution and sends a value back to the caller, but retains enough state to enable the function to resume where it left off. \n",
    "#When the function resumes, it continues execution immediately after the last yield run. \n",
    "#This allows its code to produce a series of values over time, rather than computing them at once and sending them back like a list.\n",
    "\n",
    "def num_of_counts(n):\n",
    "    count = 1 \n",
    "    while count < n :\n",
    "        yield count \n",
    "        count += 1\n",
    "for i in num_of_counts(7):\n",
    "    print(i)"
   ]
  },
  {
   "cell_type": "markdown",
   "id": "08b717aa-4248-498f-8668-da249345e318",
   "metadata": {},
   "source": [
    "*Q5. Create a generator function for prime numbers less than 1000.Use the next method to print the first 20 prime numbers*"
   ]
  },
  {
   "cell_type": "code",
   "execution_count": null,
   "id": "46e17173-f54e-44fe-a7ac-c2e35307382f",
   "metadata": {},
   "outputs": [],
   "source": [
    "n = int(input(\"Enter the number \n",
    "def prime_num_gen(n):\n",
    "    for i in range(1, n + 1):\n",
    "        if (i % 1 == 0 ) and  (i % i == 0):\n",
    "            l.append(i)\n",
    "    yield next(l)\n",
    "    "
   ]
  },
  {
   "cell_type": "markdown",
   "id": "96ac2c89-0c08-4439-9896-8151cccd223c",
   "metadata": {},
   "source": [
    "*Q6. Write a python program to print first 10 fibonacci numbers usinga while loop .*"
   ]
  },
  {
   "cell_type": "code",
   "execution_count": 1,
   "id": "e756ec0a-7028-45e1-8942-355e6c83d718",
   "metadata": {},
   "outputs": [
    {
     "name": "stdin",
     "output_type": "stream",
     "text": [
      "Enter the number of elements you want 10\n"
     ]
    },
    {
     "name": "stdout",
     "output_type": "stream",
     "text": [
      "0\n",
      "1\n",
      "1\n",
      "2\n",
      "3\n",
      "5\n",
      "8\n",
      "13\n",
      "21\n",
      "34\n"
     ]
    }
   ],
   "source": [
    "n = int(input(\"Enter the number of elements you want\"))\n",
    "a, b = 0 , 1\n",
    "counter = 0 \n",
    "\n",
    "while counter < n :\n",
    "    print(a)\n",
    "    c = a + b \n",
    "    a = b \n",
    "    b = c \n",
    "    counter += 1"
   ]
  },
  {
   "cell_type": "markdown",
   "id": "1acd862a-a5e5-4ac2-8ee6-d81168eec20e",
   "metadata": {},
   "source": [
    "*Q7. Write a list comprehension to iterate through the given string : 'pwskills'*"
   ]
  },
  {
   "cell_type": "code",
   "execution_count": 2,
   "id": "d3d2e09f-5b14-46ff-bfae-60b91f525f15",
   "metadata": {},
   "outputs": [
    {
     "data": {
      "text/plain": [
       "['p', 'w', 's', 'k', 'i', 'l', 'l', 's']"
      ]
     },
     "execution_count": 2,
     "metadata": {},
     "output_type": "execute_result"
    }
   ],
   "source": [
    "[i for i in 'pwskills']"
   ]
  },
  {
   "cell_type": "markdown",
   "id": "96973550-7c26-49a7-b0f4-d9a595a52a98",
   "metadata": {},
   "source": [
    "*Q.8 Write a python program to check whether a given number is palindrome or not using a while loop*"
   ]
  },
  {
   "cell_type": "code",
   "execution_count": 2,
   "id": "a78159ec-c0cc-45d8-840c-6a76b9295067",
   "metadata": {},
   "outputs": [
    {
     "name": "stdin",
     "output_type": "stream",
     "text": [
      "Enter the number : 789345\n"
     ]
    },
    {
     "name": "stdout",
     "output_type": "stream",
     "text": [
      "Number 789345 is not a palindrome\n"
     ]
    }
   ],
   "source": [
    "n = int(input(\"Enter the number :\"))\n",
    "n_str = str(n)\n",
    "\n",
    "i = 0\n",
    "while i < len(n_str):\n",
    "    i += 1\n",
    "    if n_str == n_str[::-1]:\n",
    "        print(\"Number {} is a palindrome\".format(n))\n",
    "        break \n",
    "    else: \n",
    "        print(\"Number {} is not a palindrome\".format(n))\n",
    "        break"
   ]
  },
  {
   "cell_type": "markdown",
   "id": "2fc2eed8-c299-4b30-945c-8906d55cf86f",
   "metadata": {},
   "source": [
    "*Q9. Write a code to print odd number from 1 to 100 using list comprehension*"
   ]
  },
  {
   "cell_type": "code",
   "execution_count": 10,
   "id": "ef2df8f3-af85-4ef0-b68d-2f8af7edf008",
   "metadata": {},
   "outputs": [],
   "source": [
    "l1 = [ i for i in range(101)]"
   ]
  },
  {
   "cell_type": "code",
   "execution_count": 11,
   "id": "3a3eae1c-9032-4cc7-bb83-08629a39fe0e",
   "metadata": {},
   "outputs": [
    {
     "data": {
      "text/plain": [
       "[1,\n",
       " 3,\n",
       " 5,\n",
       " 7,\n",
       " 9,\n",
       " 11,\n",
       " 13,\n",
       " 15,\n",
       " 17,\n",
       " 19,\n",
       " 21,\n",
       " 23,\n",
       " 25,\n",
       " 27,\n",
       " 29,\n",
       " 31,\n",
       " 33,\n",
       " 35,\n",
       " 37,\n",
       " 39,\n",
       " 41,\n",
       " 43,\n",
       " 45,\n",
       " 47,\n",
       " 49,\n",
       " 51,\n",
       " 53,\n",
       " 55,\n",
       " 57,\n",
       " 59,\n",
       " 61,\n",
       " 63,\n",
       " 65,\n",
       " 67,\n",
       " 69,\n",
       " 71,\n",
       " 73,\n",
       " 75,\n",
       " 77,\n",
       " 79,\n",
       " 81,\n",
       " 83,\n",
       " 85,\n",
       " 87,\n",
       " 89,\n",
       " 91,\n",
       " 93,\n",
       " 95,\n",
       " 97,\n",
       " 99]"
      ]
     },
     "execution_count": 11,
     "metadata": {},
     "output_type": "execute_result"
    }
   ],
   "source": [
    "l2 = [ i for i in l1 if i % 2 != 0]\n",
    "l2"
   ]
  },
  {
   "cell_type": "code",
   "execution_count": null,
   "id": "eafdc24e-d2bd-41fb-aa83-94f44d8b6b4d",
   "metadata": {},
   "outputs": [],
   "source": []
  }
 ],
 "metadata": {
  "kernelspec": {
   "display_name": "Python 3 (ipykernel)",
   "language": "python",
   "name": "python3"
  },
  "language_info": {
   "codemirror_mode": {
    "name": "ipython",
    "version": 3
   },
   "file_extension": ".py",
   "mimetype": "text/x-python",
   "name": "python",
   "nbconvert_exporter": "python",
   "pygments_lexer": "ipython3",
   "version": "3.10.8"
  }
 },
 "nbformat": 4,
 "nbformat_minor": 5
}
